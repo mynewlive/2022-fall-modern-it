{
  "nbformat": 4,
  "nbformat_minor": 0,
  "metadata": {
    "colab": {
      "provenance": [],
      "toc_visible": true
    },
    "kernelspec": {
      "name": "python3",
      "display_name": "Python 3"
    },
    "language_info": {
      "name": "python"
    }
  },
  "cells": [
    {
      "cell_type": "markdown",
      "source": [
        "# **Прогноз невозвратного  кредита**"
      ],
      "metadata": {
        "id": "3LGI4WWSaY9N"
      }
    },
    {
      "cell_type": "markdown",
      "source": [
        "**4941102/10701 Цуй** **Гуансюй**"
      ],
      "metadata": {
        "id": "nnN5H5aJULD7"
      }
    },
    {
      "cell_type": "markdown",
      "source": [
        "Logistic regression and Decision Tree models are built , applied on the data set and evaluated using Jaccard index ,F1-score ,LogLoss."
      ],
      "metadata": {
        "id": "C8HLWo-TWv4t"
      }
    },
    {
      "cell_type": "code",
      "execution_count": 1,
      "metadata": {
        "id": "dHVsiuOSBmHJ"
      },
      "outputs": [],
      "source": [
        "import numpy as np\n",
        "import pandas as pd\n",
        "import matplotlib.pyplot as plot\n",
        "%matplotlib inline"
      ]
    },
    {
      "cell_type": "code",
      "source": [
        "loan_train_csv= \"https://s3-api.us-geo.objectstorage.softlayer.net/cf-courses-data/CognitiveClass/ML0101ENv3/labs/loan_train.csv\"\n",
        "loan_test_csv = \"https://s3-api.us-geo.objectstorage.softlayer.net/cf-courses-data/CognitiveClass/ML0101ENv3/labs/loan_test.csv\""
      ],
      "metadata": {
        "id": "7tXfAYZdFflI"
      },
      "execution_count": 2,
      "outputs": []
    },
    {
      "cell_type": "code",
      "source": [
        "#reading loan_train_csv\n",
        "\n",
        "df_train= pd.read_csv(loan_train_csv,  parse_dates=True)\n",
        "df_test = pd.read_csv(loan_test_csv,  parse_dates=True)"
      ],
      "metadata": {
        "id": "qk3DWfBjEBDn"
      },
      "execution_count": 3,
      "outputs": []
    },
    {
      "cell_type": "markdown",
      "source": [
        "To reducing number of preprocessing operations on train and test set we will combine both dataframes. After preprocessing whole data framewe will split them again."
      ],
      "metadata": {
        "id": "uW0B54sqW_9R"
      }
    },
    {
      "cell_type": "code",
      "source": [
        "df_train = df_train.append(df_test)"
      ],
      "metadata": {
        "id": "r2QckfyzEBa2"
      },
      "execution_count": 4,
      "outputs": []
    },
    {
      "cell_type": "code",
      "source": [
        "#dispaly top few records\n",
        "df_train.shape"
      ],
      "metadata": {
        "colab": {
          "base_uri": "https://localhost:8080/"
        },
        "id": "NpbavZPREBjF",
        "outputId": "96d2ddcc-601a-4348-af3a-e837ab1cdd71"
      },
      "execution_count": 5,
      "outputs": [
        {
          "output_type": "execute_result",
          "data": {
            "text/plain": [
              "(400, 10)"
            ]
          },
          "metadata": {},
          "execution_count": 5
        }
      ]
    },
    {
      "cell_type": "markdown",
      "source": [
        "Field Description\n",
        "\n",
        "Loan_status Whether a loan is paid off on in collection\n",
        "\n",
        "Principal Basic principal loan amount at the\n",
        "\n",
        "Terms Origination terms which can be weekly (7 days), biweekly, and monthly payoff schedule\n",
        "\n",
        "Effective_date When the loan got originated and took effects\n",
        "\n",
        "Due_date Since it’s one-time payoff schedule, each loan has one single due date\n",
        "\n",
        "Age Age of applicant\n",
        "\n",
        "Education Education of applicant\n",
        "\n",
        "Gender The gender of applicant"
      ],
      "metadata": {
        "id": "Rmo4iaOYXLmn"
      }
    },
    {
      "cell_type": "code",
      "source": [
        "#rename columns\n",
        "columns = df_train.columns\n",
        "columns"
      ],
      "metadata": {
        "colab": {
          "base_uri": "https://localhost:8080/"
        },
        "id": "8uIYaAq6EBlS",
        "outputId": "612c4f66-163f-4f37-ec9b-a9f0630f5c7e"
      },
      "execution_count": 6,
      "outputs": [
        {
          "output_type": "execute_result",
          "data": {
            "text/plain": [
              "Index(['Unnamed: 0', 'Unnamed: 0.1', 'loan_status', 'Principal', 'terms',\n",
              "       'effective_date', 'due_date', 'age', 'education', 'Gender'],\n",
              "      dtype='object')"
            ]
          },
          "metadata": {},
          "execution_count": 6
        }
      ]
    },
    {
      "cell_type": "code",
      "source": [
        "#rename columns \n",
        "df_train.rename(columns = { columns[0]:\"one\" , columns[1]:\"two\"}, inplace = True)\n",
        "df_train.columns"
      ],
      "metadata": {
        "colab": {
          "base_uri": "https://localhost:8080/"
        },
        "id": "R3Uj8gUrEBnT",
        "outputId": "3d287db6-cd41-42d0-90e0-7c66e80e7f47"
      },
      "execution_count": 7,
      "outputs": [
        {
          "output_type": "execute_result",
          "data": {
            "text/plain": [
              "Index(['one', 'two', 'loan_status', 'Principal', 'terms', 'effective_date',\n",
              "       'due_date', 'age', 'education', 'Gender'],\n",
              "      dtype='object')"
            ]
          },
          "metadata": {},
          "execution_count": 7
        }
      ]
    },
    {
      "cell_type": "code",
      "source": [
        "#check data types\n",
        "df_train.dtypes"
      ],
      "metadata": {
        "colab": {
          "base_uri": "https://localhost:8080/"
        },
        "id": "T4FUMl-4EBpW",
        "outputId": "19aeb2ba-4a86-4729-b0be-e4b169ba181b"
      },
      "execution_count": 8,
      "outputs": [
        {
          "output_type": "execute_result",
          "data": {
            "text/plain": [
              "one                int64\n",
              "two                int64\n",
              "loan_status       object\n",
              "Principal          int64\n",
              "terms              int64\n",
              "effective_date    object\n",
              "due_date          object\n",
              "age                int64\n",
              "education         object\n",
              "Gender            object\n",
              "dtype: object"
            ]
          },
          "metadata": {},
          "execution_count": 8
        }
      ]
    },
    {
      "cell_type": "code",
      "source": [
        "#converting string dates  to datetime \n",
        "df_train['effective_date'] = pd.to_datetime(df_train['effective_date'])\n",
        "df_train['due_date'] = pd.to_datetime(df_train['due_date'])\n",
        "df_train.dtypes"
      ],
      "metadata": {
        "colab": {
          "base_uri": "https://localhost:8080/"
        },
        "id": "dKC6aRDGEBrf",
        "outputId": "461258ab-2354-4f28-f8b9-5c775f29890d"
      },
      "execution_count": 9,
      "outputs": [
        {
          "output_type": "execute_result",
          "data": {
            "text/plain": [
              "one                        int64\n",
              "two                        int64\n",
              "loan_status               object\n",
              "Principal                  int64\n",
              "terms                      int64\n",
              "effective_date    datetime64[ns]\n",
              "due_date          datetime64[ns]\n",
              "age                        int64\n",
              "education                 object\n",
              "Gender                    object\n",
              "dtype: object"
            ]
          },
          "metadata": {},
          "execution_count": 9
        }
      ]
    },
    {
      "cell_type": "code",
      "source": [
        "#check null values\n",
        "df_train.isna().sum()"
      ],
      "metadata": {
        "colab": {
          "base_uri": "https://localhost:8080/"
        },
        "id": "OXGABI5OEBtz",
        "outputId": "4b7ec722-9bf3-4f99-822e-4e0aa05a4ce5"
      },
      "execution_count": 10,
      "outputs": [
        {
          "output_type": "execute_result",
          "data": {
            "text/plain": [
              "one               0\n",
              "two               0\n",
              "loan_status       0\n",
              "Principal         0\n",
              "terms             0\n",
              "effective_date    0\n",
              "due_date          0\n",
              "age               0\n",
              "education         0\n",
              "Gender            0\n",
              "dtype: int64"
            ]
          },
          "metadata": {},
          "execution_count": 10
        }
      ]
    },
    {
      "cell_type": "markdown",
      "source": [
        "Hence no missing values."
      ],
      "metadata": {
        "id": "vBQ_qlsTXdla"
      }
    },
    {
      "cell_type": "code",
      "source": [
        "df_train.head(10)"
      ],
      "metadata": {
        "colab": {
          "base_uri": "https://localhost:8080/",
          "height": 363
        },
        "id": "vZ0KbCwdELQK",
        "outputId": "4746bc81-0c0a-494e-f9c1-f3c82335d5ba"
      },
      "execution_count": 11,
      "outputs": [
        {
          "output_type": "execute_result",
          "data": {
            "text/plain": [
              "   one  two loan_status  Principal  terms effective_date   due_date  age  \\\n",
              "0    0    0     PAIDOFF       1000     30     2016-09-08 2016-10-07   45   \n",
              "1    2    2     PAIDOFF       1000     30     2016-09-08 2016-10-07   33   \n",
              "2    3    3     PAIDOFF       1000     15     2016-09-08 2016-09-22   27   \n",
              "3    4    4     PAIDOFF       1000     30     2016-09-09 2016-10-08   28   \n",
              "4    6    6     PAIDOFF       1000     30     2016-09-09 2016-10-08   29   \n",
              "5    7    7     PAIDOFF       1000     30     2016-09-09 2016-10-08   36   \n",
              "6    8    8     PAIDOFF       1000     30     2016-09-09 2016-10-08   28   \n",
              "7    9    9     PAIDOFF        800     15     2016-09-10 2016-09-24   26   \n",
              "8   10   10     PAIDOFF        300      7     2016-09-10 2016-09-16   29   \n",
              "9   11   11     PAIDOFF       1000     15     2016-09-10 2016-10-09   39   \n",
              "\n",
              "              education  Gender  \n",
              "0  High School or Below    male  \n",
              "1              Bechalor  female  \n",
              "2               college    male  \n",
              "3               college  female  \n",
              "4               college    male  \n",
              "5               college    male  \n",
              "6               college    male  \n",
              "7               college    male  \n",
              "8               college    male  \n",
              "9  High School or Below    male  "
            ],
            "text/html": [
              "\n",
              "  <div id=\"df-a4f51feb-b51a-4390-93c0-3ef1968d27fc\">\n",
              "    <div class=\"colab-df-container\">\n",
              "      <div>\n",
              "<style scoped>\n",
              "    .dataframe tbody tr th:only-of-type {\n",
              "        vertical-align: middle;\n",
              "    }\n",
              "\n",
              "    .dataframe tbody tr th {\n",
              "        vertical-align: top;\n",
              "    }\n",
              "\n",
              "    .dataframe thead th {\n",
              "        text-align: right;\n",
              "    }\n",
              "</style>\n",
              "<table border=\"1\" class=\"dataframe\">\n",
              "  <thead>\n",
              "    <tr style=\"text-align: right;\">\n",
              "      <th></th>\n",
              "      <th>one</th>\n",
              "      <th>two</th>\n",
              "      <th>loan_status</th>\n",
              "      <th>Principal</th>\n",
              "      <th>terms</th>\n",
              "      <th>effective_date</th>\n",
              "      <th>due_date</th>\n",
              "      <th>age</th>\n",
              "      <th>education</th>\n",
              "      <th>Gender</th>\n",
              "    </tr>\n",
              "  </thead>\n",
              "  <tbody>\n",
              "    <tr>\n",
              "      <th>0</th>\n",
              "      <td>0</td>\n",
              "      <td>0</td>\n",
              "      <td>PAIDOFF</td>\n",
              "      <td>1000</td>\n",
              "      <td>30</td>\n",
              "      <td>2016-09-08</td>\n",
              "      <td>2016-10-07</td>\n",
              "      <td>45</td>\n",
              "      <td>High School or Below</td>\n",
              "      <td>male</td>\n",
              "    </tr>\n",
              "    <tr>\n",
              "      <th>1</th>\n",
              "      <td>2</td>\n",
              "      <td>2</td>\n",
              "      <td>PAIDOFF</td>\n",
              "      <td>1000</td>\n",
              "      <td>30</td>\n",
              "      <td>2016-09-08</td>\n",
              "      <td>2016-10-07</td>\n",
              "      <td>33</td>\n",
              "      <td>Bechalor</td>\n",
              "      <td>female</td>\n",
              "    </tr>\n",
              "    <tr>\n",
              "      <th>2</th>\n",
              "      <td>3</td>\n",
              "      <td>3</td>\n",
              "      <td>PAIDOFF</td>\n",
              "      <td>1000</td>\n",
              "      <td>15</td>\n",
              "      <td>2016-09-08</td>\n",
              "      <td>2016-09-22</td>\n",
              "      <td>27</td>\n",
              "      <td>college</td>\n",
              "      <td>male</td>\n",
              "    </tr>\n",
              "    <tr>\n",
              "      <th>3</th>\n",
              "      <td>4</td>\n",
              "      <td>4</td>\n",
              "      <td>PAIDOFF</td>\n",
              "      <td>1000</td>\n",
              "      <td>30</td>\n",
              "      <td>2016-09-09</td>\n",
              "      <td>2016-10-08</td>\n",
              "      <td>28</td>\n",
              "      <td>college</td>\n",
              "      <td>female</td>\n",
              "    </tr>\n",
              "    <tr>\n",
              "      <th>4</th>\n",
              "      <td>6</td>\n",
              "      <td>6</td>\n",
              "      <td>PAIDOFF</td>\n",
              "      <td>1000</td>\n",
              "      <td>30</td>\n",
              "      <td>2016-09-09</td>\n",
              "      <td>2016-10-08</td>\n",
              "      <td>29</td>\n",
              "      <td>college</td>\n",
              "      <td>male</td>\n",
              "    </tr>\n",
              "    <tr>\n",
              "      <th>5</th>\n",
              "      <td>7</td>\n",
              "      <td>7</td>\n",
              "      <td>PAIDOFF</td>\n",
              "      <td>1000</td>\n",
              "      <td>30</td>\n",
              "      <td>2016-09-09</td>\n",
              "      <td>2016-10-08</td>\n",
              "      <td>36</td>\n",
              "      <td>college</td>\n",
              "      <td>male</td>\n",
              "    </tr>\n",
              "    <tr>\n",
              "      <th>6</th>\n",
              "      <td>8</td>\n",
              "      <td>8</td>\n",
              "      <td>PAIDOFF</td>\n",
              "      <td>1000</td>\n",
              "      <td>30</td>\n",
              "      <td>2016-09-09</td>\n",
              "      <td>2016-10-08</td>\n",
              "      <td>28</td>\n",
              "      <td>college</td>\n",
              "      <td>male</td>\n",
              "    </tr>\n",
              "    <tr>\n",
              "      <th>7</th>\n",
              "      <td>9</td>\n",
              "      <td>9</td>\n",
              "      <td>PAIDOFF</td>\n",
              "      <td>800</td>\n",
              "      <td>15</td>\n",
              "      <td>2016-09-10</td>\n",
              "      <td>2016-09-24</td>\n",
              "      <td>26</td>\n",
              "      <td>college</td>\n",
              "      <td>male</td>\n",
              "    </tr>\n",
              "    <tr>\n",
              "      <th>8</th>\n",
              "      <td>10</td>\n",
              "      <td>10</td>\n",
              "      <td>PAIDOFF</td>\n",
              "      <td>300</td>\n",
              "      <td>7</td>\n",
              "      <td>2016-09-10</td>\n",
              "      <td>2016-09-16</td>\n",
              "      <td>29</td>\n",
              "      <td>college</td>\n",
              "      <td>male</td>\n",
              "    </tr>\n",
              "    <tr>\n",
              "      <th>9</th>\n",
              "      <td>11</td>\n",
              "      <td>11</td>\n",
              "      <td>PAIDOFF</td>\n",
              "      <td>1000</td>\n",
              "      <td>15</td>\n",
              "      <td>2016-09-10</td>\n",
              "      <td>2016-10-09</td>\n",
              "      <td>39</td>\n",
              "      <td>High School or Below</td>\n",
              "      <td>male</td>\n",
              "    </tr>\n",
              "  </tbody>\n",
              "</table>\n",
              "</div>\n",
              "      <button class=\"colab-df-convert\" onclick=\"convertToInteractive('df-a4f51feb-b51a-4390-93c0-3ef1968d27fc')\"\n",
              "              title=\"Convert this dataframe to an interactive table.\"\n",
              "              style=\"display:none;\">\n",
              "        \n",
              "  <svg xmlns=\"http://www.w3.org/2000/svg\" height=\"24px\"viewBox=\"0 0 24 24\"\n",
              "       width=\"24px\">\n",
              "    <path d=\"M0 0h24v24H0V0z\" fill=\"none\"/>\n",
              "    <path d=\"M18.56 5.44l.94 2.06.94-2.06 2.06-.94-2.06-.94-.94-2.06-.94 2.06-2.06.94zm-11 1L8.5 8.5l.94-2.06 2.06-.94-2.06-.94L8.5 2.5l-.94 2.06-2.06.94zm10 10l.94 2.06.94-2.06 2.06-.94-2.06-.94-.94-2.06-.94 2.06-2.06.94z\"/><path d=\"M17.41 7.96l-1.37-1.37c-.4-.4-.92-.59-1.43-.59-.52 0-1.04.2-1.43.59L10.3 9.45l-7.72 7.72c-.78.78-.78 2.05 0 2.83L4 21.41c.39.39.9.59 1.41.59.51 0 1.02-.2 1.41-.59l7.78-7.78 2.81-2.81c.8-.78.8-2.07 0-2.86zM5.41 20L4 18.59l7.72-7.72 1.47 1.35L5.41 20z\"/>\n",
              "  </svg>\n",
              "      </button>\n",
              "      \n",
              "  <style>\n",
              "    .colab-df-container {\n",
              "      display:flex;\n",
              "      flex-wrap:wrap;\n",
              "      gap: 12px;\n",
              "    }\n",
              "\n",
              "    .colab-df-convert {\n",
              "      background-color: #E8F0FE;\n",
              "      border: none;\n",
              "      border-radius: 50%;\n",
              "      cursor: pointer;\n",
              "      display: none;\n",
              "      fill: #1967D2;\n",
              "      height: 32px;\n",
              "      padding: 0 0 0 0;\n",
              "      width: 32px;\n",
              "    }\n",
              "\n",
              "    .colab-df-convert:hover {\n",
              "      background-color: #E2EBFA;\n",
              "      box-shadow: 0px 1px 2px rgba(60, 64, 67, 0.3), 0px 1px 3px 1px rgba(60, 64, 67, 0.15);\n",
              "      fill: #174EA6;\n",
              "    }\n",
              "\n",
              "    [theme=dark] .colab-df-convert {\n",
              "      background-color: #3B4455;\n",
              "      fill: #D2E3FC;\n",
              "    }\n",
              "\n",
              "    [theme=dark] .colab-df-convert:hover {\n",
              "      background-color: #434B5C;\n",
              "      box-shadow: 0px 1px 3px 1px rgba(0, 0, 0, 0.15);\n",
              "      filter: drop-shadow(0px 1px 2px rgba(0, 0, 0, 0.3));\n",
              "      fill: #FFFFFF;\n",
              "    }\n",
              "  </style>\n",
              "\n",
              "      <script>\n",
              "        const buttonEl =\n",
              "          document.querySelector('#df-a4f51feb-b51a-4390-93c0-3ef1968d27fc button.colab-df-convert');\n",
              "        buttonEl.style.display =\n",
              "          google.colab.kernel.accessAllowed ? 'block' : 'none';\n",
              "\n",
              "        async function convertToInteractive(key) {\n",
              "          const element = document.querySelector('#df-a4f51feb-b51a-4390-93c0-3ef1968d27fc');\n",
              "          const dataTable =\n",
              "            await google.colab.kernel.invokeFunction('convertToInteractive',\n",
              "                                                     [key], {});\n",
              "          if (!dataTable) return;\n",
              "\n",
              "          const docLinkHtml = 'Like what you see? Visit the ' +\n",
              "            '<a target=\"_blank\" href=https://colab.research.google.com/notebooks/data_table.ipynb>data table notebook</a>'\n",
              "            + ' to learn more about interactive tables.';\n",
              "          element.innerHTML = '';\n",
              "          dataTable['output_type'] = 'display_data';\n",
              "          await google.colab.output.renderOutput(dataTable, element);\n",
              "          const docLink = document.createElement('div');\n",
              "          docLink.innerHTML = docLinkHtml;\n",
              "          element.appendChild(docLink);\n",
              "        }\n",
              "      </script>\n",
              "    </div>\n",
              "  </div>\n",
              "  "
            ]
          },
          "metadata": {},
          "execution_count": 11
        }
      ]
    },
    {
      "cell_type": "code",
      "source": [
        "#checking types of unique values \n",
        "df_train.education.unique() # 4 unique\n",
        "df_train.loan_status.unique() #two uniques"
      ],
      "metadata": {
        "colab": {
          "base_uri": "https://localhost:8080/"
        },
        "id": "OAD_TfbREMgZ",
        "outputId": "d1be168e-024b-4aa0-ef5a-0bb28d05c8b7"
      },
      "execution_count": 12,
      "outputs": [
        {
          "output_type": "execute_result",
          "data": {
            "text/plain": [
              "array(['PAIDOFF', 'COLLECTION'], dtype=object)"
            ]
          },
          "metadata": {},
          "execution_count": 12
        }
      ]
    },
    {
      "cell_type": "code",
      "source": [
        "#convrt gender colum to numeric values -- 0- male, 1- female\n",
        "from sklearn.preprocessing import LabelEncoder\n",
        "genderEncoder= LabelEncoder()\n",
        "df_train.Gender = genderEncoder.fit_transform(df_train.Gender)\n",
        "df_train.head()"
      ],
      "metadata": {
        "colab": {
          "base_uri": "https://localhost:8080/",
          "height": 206
        },
        "id": "az8d_HWiEMjC",
        "outputId": "c9f1c42f-1725-4ba1-9b57-c1ce11e467ce"
      },
      "execution_count": 13,
      "outputs": [
        {
          "output_type": "execute_result",
          "data": {
            "text/plain": [
              "   one  two loan_status  Principal  terms effective_date   due_date  age  \\\n",
              "0    0    0     PAIDOFF       1000     30     2016-09-08 2016-10-07   45   \n",
              "1    2    2     PAIDOFF       1000     30     2016-09-08 2016-10-07   33   \n",
              "2    3    3     PAIDOFF       1000     15     2016-09-08 2016-09-22   27   \n",
              "3    4    4     PAIDOFF       1000     30     2016-09-09 2016-10-08   28   \n",
              "4    6    6     PAIDOFF       1000     30     2016-09-09 2016-10-08   29   \n",
              "\n",
              "              education  Gender  \n",
              "0  High School or Below       1  \n",
              "1              Bechalor       0  \n",
              "2               college       1  \n",
              "3               college       0  \n",
              "4               college       1  "
            ],
            "text/html": [
              "\n",
              "  <div id=\"df-727400f7-e1ab-4eed-ba63-3a89b3baa551\">\n",
              "    <div class=\"colab-df-container\">\n",
              "      <div>\n",
              "<style scoped>\n",
              "    .dataframe tbody tr th:only-of-type {\n",
              "        vertical-align: middle;\n",
              "    }\n",
              "\n",
              "    .dataframe tbody tr th {\n",
              "        vertical-align: top;\n",
              "    }\n",
              "\n",
              "    .dataframe thead th {\n",
              "        text-align: right;\n",
              "    }\n",
              "</style>\n",
              "<table border=\"1\" class=\"dataframe\">\n",
              "  <thead>\n",
              "    <tr style=\"text-align: right;\">\n",
              "      <th></th>\n",
              "      <th>one</th>\n",
              "      <th>two</th>\n",
              "      <th>loan_status</th>\n",
              "      <th>Principal</th>\n",
              "      <th>terms</th>\n",
              "      <th>effective_date</th>\n",
              "      <th>due_date</th>\n",
              "      <th>age</th>\n",
              "      <th>education</th>\n",
              "      <th>Gender</th>\n",
              "    </tr>\n",
              "  </thead>\n",
              "  <tbody>\n",
              "    <tr>\n",
              "      <th>0</th>\n",
              "      <td>0</td>\n",
              "      <td>0</td>\n",
              "      <td>PAIDOFF</td>\n",
              "      <td>1000</td>\n",
              "      <td>30</td>\n",
              "      <td>2016-09-08</td>\n",
              "      <td>2016-10-07</td>\n",
              "      <td>45</td>\n",
              "      <td>High School or Below</td>\n",
              "      <td>1</td>\n",
              "    </tr>\n",
              "    <tr>\n",
              "      <th>1</th>\n",
              "      <td>2</td>\n",
              "      <td>2</td>\n",
              "      <td>PAIDOFF</td>\n",
              "      <td>1000</td>\n",
              "      <td>30</td>\n",
              "      <td>2016-09-08</td>\n",
              "      <td>2016-10-07</td>\n",
              "      <td>33</td>\n",
              "      <td>Bechalor</td>\n",
              "      <td>0</td>\n",
              "    </tr>\n",
              "    <tr>\n",
              "      <th>2</th>\n",
              "      <td>3</td>\n",
              "      <td>3</td>\n",
              "      <td>PAIDOFF</td>\n",
              "      <td>1000</td>\n",
              "      <td>15</td>\n",
              "      <td>2016-09-08</td>\n",
              "      <td>2016-09-22</td>\n",
              "      <td>27</td>\n",
              "      <td>college</td>\n",
              "      <td>1</td>\n",
              "    </tr>\n",
              "    <tr>\n",
              "      <th>3</th>\n",
              "      <td>4</td>\n",
              "      <td>4</td>\n",
              "      <td>PAIDOFF</td>\n",
              "      <td>1000</td>\n",
              "      <td>30</td>\n",
              "      <td>2016-09-09</td>\n",
              "      <td>2016-10-08</td>\n",
              "      <td>28</td>\n",
              "      <td>college</td>\n",
              "      <td>0</td>\n",
              "    </tr>\n",
              "    <tr>\n",
              "      <th>4</th>\n",
              "      <td>6</td>\n",
              "      <td>6</td>\n",
              "      <td>PAIDOFF</td>\n",
              "      <td>1000</td>\n",
              "      <td>30</td>\n",
              "      <td>2016-09-09</td>\n",
              "      <td>2016-10-08</td>\n",
              "      <td>29</td>\n",
              "      <td>college</td>\n",
              "      <td>1</td>\n",
              "    </tr>\n",
              "  </tbody>\n",
              "</table>\n",
              "</div>\n",
              "      <button class=\"colab-df-convert\" onclick=\"convertToInteractive('df-727400f7-e1ab-4eed-ba63-3a89b3baa551')\"\n",
              "              title=\"Convert this dataframe to an interactive table.\"\n",
              "              style=\"display:none;\">\n",
              "        \n",
              "  <svg xmlns=\"http://www.w3.org/2000/svg\" height=\"24px\"viewBox=\"0 0 24 24\"\n",
              "       width=\"24px\">\n",
              "    <path d=\"M0 0h24v24H0V0z\" fill=\"none\"/>\n",
              "    <path d=\"M18.56 5.44l.94 2.06.94-2.06 2.06-.94-2.06-.94-.94-2.06-.94 2.06-2.06.94zm-11 1L8.5 8.5l.94-2.06 2.06-.94-2.06-.94L8.5 2.5l-.94 2.06-2.06.94zm10 10l.94 2.06.94-2.06 2.06-.94-2.06-.94-.94-2.06-.94 2.06-2.06.94z\"/><path d=\"M17.41 7.96l-1.37-1.37c-.4-.4-.92-.59-1.43-.59-.52 0-1.04.2-1.43.59L10.3 9.45l-7.72 7.72c-.78.78-.78 2.05 0 2.83L4 21.41c.39.39.9.59 1.41.59.51 0 1.02-.2 1.41-.59l7.78-7.78 2.81-2.81c.8-.78.8-2.07 0-2.86zM5.41 20L4 18.59l7.72-7.72 1.47 1.35L5.41 20z\"/>\n",
              "  </svg>\n",
              "      </button>\n",
              "      \n",
              "  <style>\n",
              "    .colab-df-container {\n",
              "      display:flex;\n",
              "      flex-wrap:wrap;\n",
              "      gap: 12px;\n",
              "    }\n",
              "\n",
              "    .colab-df-convert {\n",
              "      background-color: #E8F0FE;\n",
              "      border: none;\n",
              "      border-radius: 50%;\n",
              "      cursor: pointer;\n",
              "      display: none;\n",
              "      fill: #1967D2;\n",
              "      height: 32px;\n",
              "      padding: 0 0 0 0;\n",
              "      width: 32px;\n",
              "    }\n",
              "\n",
              "    .colab-df-convert:hover {\n",
              "      background-color: #E2EBFA;\n",
              "      box-shadow: 0px 1px 2px rgba(60, 64, 67, 0.3), 0px 1px 3px 1px rgba(60, 64, 67, 0.15);\n",
              "      fill: #174EA6;\n",
              "    }\n",
              "\n",
              "    [theme=dark] .colab-df-convert {\n",
              "      background-color: #3B4455;\n",
              "      fill: #D2E3FC;\n",
              "    }\n",
              "\n",
              "    [theme=dark] .colab-df-convert:hover {\n",
              "      background-color: #434B5C;\n",
              "      box-shadow: 0px 1px 3px 1px rgba(0, 0, 0, 0.15);\n",
              "      filter: drop-shadow(0px 1px 2px rgba(0, 0, 0, 0.3));\n",
              "      fill: #FFFFFF;\n",
              "    }\n",
              "  </style>\n",
              "\n",
              "      <script>\n",
              "        const buttonEl =\n",
              "          document.querySelector('#df-727400f7-e1ab-4eed-ba63-3a89b3baa551 button.colab-df-convert');\n",
              "        buttonEl.style.display =\n",
              "          google.colab.kernel.accessAllowed ? 'block' : 'none';\n",
              "\n",
              "        async function convertToInteractive(key) {\n",
              "          const element = document.querySelector('#df-727400f7-e1ab-4eed-ba63-3a89b3baa551');\n",
              "          const dataTable =\n",
              "            await google.colab.kernel.invokeFunction('convertToInteractive',\n",
              "                                                     [key], {});\n",
              "          if (!dataTable) return;\n",
              "\n",
              "          const docLinkHtml = 'Like what you see? Visit the ' +\n",
              "            '<a target=\"_blank\" href=https://colab.research.google.com/notebooks/data_table.ipynb>data table notebook</a>'\n",
              "            + ' to learn more about interactive tables.';\n",
              "          element.innerHTML = '';\n",
              "          dataTable['output_type'] = 'display_data';\n",
              "          await google.colab.output.renderOutput(dataTable, element);\n",
              "          const docLink = document.createElement('div');\n",
              "          docLink.innerHTML = docLinkHtml;\n",
              "          element.appendChild(docLink);\n",
              "        }\n",
              "      </script>\n",
              "    </div>\n",
              "  </div>\n",
              "  "
            ]
          },
          "metadata": {},
          "execution_count": 13
        }
      ]
    },
    {
      "cell_type": "code",
      "source": [
        "edu_dummy= pd.get_dummies(df_train.education)\n",
        "edu_dummy\n",
        "df_train.drop(axis=1, columns= \"education\", inplace= True)\n",
        "df_train = pd.concat( [df_train,edu_dummy ], axis=1 )"
      ],
      "metadata": {
        "id": "a5Z9TOLCEMk7"
      },
      "execution_count": 14,
      "outputs": []
    },
    {
      "cell_type": "code",
      "source": [
        "#convert loan_status  to numeric values 1- paid, 0- default\n",
        "loan_status_encoder =LabelEncoder()\n",
        "df_train.loan_status = loan_status_encoder.fit_transform(df_train.loan_status)\n",
        "df_train.head()"
      ],
      "metadata": {
        "colab": {
          "base_uri": "https://localhost:8080/",
          "height": 206
        },
        "id": "UFfn4DgEEMnK",
        "outputId": "cb9aecf3-fda3-4f8b-c90a-37cb31d3ae7e"
      },
      "execution_count": 15,
      "outputs": [
        {
          "output_type": "execute_result",
          "data": {
            "text/plain": [
              "   one  two  loan_status  Principal  terms effective_date   due_date  age  \\\n",
              "0    0    0            1       1000     30     2016-09-08 2016-10-07   45   \n",
              "1    2    2            1       1000     30     2016-09-08 2016-10-07   33   \n",
              "2    3    3            1       1000     15     2016-09-08 2016-09-22   27   \n",
              "3    4    4            1       1000     30     2016-09-09 2016-10-08   28   \n",
              "4    6    6            1       1000     30     2016-09-09 2016-10-08   29   \n",
              "\n",
              "   Gender  Bechalor  High School or Below  Master or Above  college  \n",
              "0       1         0                     1                0        0  \n",
              "1       0         1                     0                0        0  \n",
              "2       1         0                     0                0        1  \n",
              "3       0         0                     0                0        1  \n",
              "4       1         0                     0                0        1  "
            ],
            "text/html": [
              "\n",
              "  <div id=\"df-78a8601b-4215-49be-817f-773991fc29dc\">\n",
              "    <div class=\"colab-df-container\">\n",
              "      <div>\n",
              "<style scoped>\n",
              "    .dataframe tbody tr th:only-of-type {\n",
              "        vertical-align: middle;\n",
              "    }\n",
              "\n",
              "    .dataframe tbody tr th {\n",
              "        vertical-align: top;\n",
              "    }\n",
              "\n",
              "    .dataframe thead th {\n",
              "        text-align: right;\n",
              "    }\n",
              "</style>\n",
              "<table border=\"1\" class=\"dataframe\">\n",
              "  <thead>\n",
              "    <tr style=\"text-align: right;\">\n",
              "      <th></th>\n",
              "      <th>one</th>\n",
              "      <th>two</th>\n",
              "      <th>loan_status</th>\n",
              "      <th>Principal</th>\n",
              "      <th>terms</th>\n",
              "      <th>effective_date</th>\n",
              "      <th>due_date</th>\n",
              "      <th>age</th>\n",
              "      <th>Gender</th>\n",
              "      <th>Bechalor</th>\n",
              "      <th>High School or Below</th>\n",
              "      <th>Master or Above</th>\n",
              "      <th>college</th>\n",
              "    </tr>\n",
              "  </thead>\n",
              "  <tbody>\n",
              "    <tr>\n",
              "      <th>0</th>\n",
              "      <td>0</td>\n",
              "      <td>0</td>\n",
              "      <td>1</td>\n",
              "      <td>1000</td>\n",
              "      <td>30</td>\n",
              "      <td>2016-09-08</td>\n",
              "      <td>2016-10-07</td>\n",
              "      <td>45</td>\n",
              "      <td>1</td>\n",
              "      <td>0</td>\n",
              "      <td>1</td>\n",
              "      <td>0</td>\n",
              "      <td>0</td>\n",
              "    </tr>\n",
              "    <tr>\n",
              "      <th>1</th>\n",
              "      <td>2</td>\n",
              "      <td>2</td>\n",
              "      <td>1</td>\n",
              "      <td>1000</td>\n",
              "      <td>30</td>\n",
              "      <td>2016-09-08</td>\n",
              "      <td>2016-10-07</td>\n",
              "      <td>33</td>\n",
              "      <td>0</td>\n",
              "      <td>1</td>\n",
              "      <td>0</td>\n",
              "      <td>0</td>\n",
              "      <td>0</td>\n",
              "    </tr>\n",
              "    <tr>\n",
              "      <th>2</th>\n",
              "      <td>3</td>\n",
              "      <td>3</td>\n",
              "      <td>1</td>\n",
              "      <td>1000</td>\n",
              "      <td>15</td>\n",
              "      <td>2016-09-08</td>\n",
              "      <td>2016-09-22</td>\n",
              "      <td>27</td>\n",
              "      <td>1</td>\n",
              "      <td>0</td>\n",
              "      <td>0</td>\n",
              "      <td>0</td>\n",
              "      <td>1</td>\n",
              "    </tr>\n",
              "    <tr>\n",
              "      <th>3</th>\n",
              "      <td>4</td>\n",
              "      <td>4</td>\n",
              "      <td>1</td>\n",
              "      <td>1000</td>\n",
              "      <td>30</td>\n",
              "      <td>2016-09-09</td>\n",
              "      <td>2016-10-08</td>\n",
              "      <td>28</td>\n",
              "      <td>0</td>\n",
              "      <td>0</td>\n",
              "      <td>0</td>\n",
              "      <td>0</td>\n",
              "      <td>1</td>\n",
              "    </tr>\n",
              "    <tr>\n",
              "      <th>4</th>\n",
              "      <td>6</td>\n",
              "      <td>6</td>\n",
              "      <td>1</td>\n",
              "      <td>1000</td>\n",
              "      <td>30</td>\n",
              "      <td>2016-09-09</td>\n",
              "      <td>2016-10-08</td>\n",
              "      <td>29</td>\n",
              "      <td>1</td>\n",
              "      <td>0</td>\n",
              "      <td>0</td>\n",
              "      <td>0</td>\n",
              "      <td>1</td>\n",
              "    </tr>\n",
              "  </tbody>\n",
              "</table>\n",
              "</div>\n",
              "      <button class=\"colab-df-convert\" onclick=\"convertToInteractive('df-78a8601b-4215-49be-817f-773991fc29dc')\"\n",
              "              title=\"Convert this dataframe to an interactive table.\"\n",
              "              style=\"display:none;\">\n",
              "        \n",
              "  <svg xmlns=\"http://www.w3.org/2000/svg\" height=\"24px\"viewBox=\"0 0 24 24\"\n",
              "       width=\"24px\">\n",
              "    <path d=\"M0 0h24v24H0V0z\" fill=\"none\"/>\n",
              "    <path d=\"M18.56 5.44l.94 2.06.94-2.06 2.06-.94-2.06-.94-.94-2.06-.94 2.06-2.06.94zm-11 1L8.5 8.5l.94-2.06 2.06-.94-2.06-.94L8.5 2.5l-.94 2.06-2.06.94zm10 10l.94 2.06.94-2.06 2.06-.94-2.06-.94-.94-2.06-.94 2.06-2.06.94z\"/><path d=\"M17.41 7.96l-1.37-1.37c-.4-.4-.92-.59-1.43-.59-.52 0-1.04.2-1.43.59L10.3 9.45l-7.72 7.72c-.78.78-.78 2.05 0 2.83L4 21.41c.39.39.9.59 1.41.59.51 0 1.02-.2 1.41-.59l7.78-7.78 2.81-2.81c.8-.78.8-2.07 0-2.86zM5.41 20L4 18.59l7.72-7.72 1.47 1.35L5.41 20z\"/>\n",
              "  </svg>\n",
              "      </button>\n",
              "      \n",
              "  <style>\n",
              "    .colab-df-container {\n",
              "      display:flex;\n",
              "      flex-wrap:wrap;\n",
              "      gap: 12px;\n",
              "    }\n",
              "\n",
              "    .colab-df-convert {\n",
              "      background-color: #E8F0FE;\n",
              "      border: none;\n",
              "      border-radius: 50%;\n",
              "      cursor: pointer;\n",
              "      display: none;\n",
              "      fill: #1967D2;\n",
              "      height: 32px;\n",
              "      padding: 0 0 0 0;\n",
              "      width: 32px;\n",
              "    }\n",
              "\n",
              "    .colab-df-convert:hover {\n",
              "      background-color: #E2EBFA;\n",
              "      box-shadow: 0px 1px 2px rgba(60, 64, 67, 0.3), 0px 1px 3px 1px rgba(60, 64, 67, 0.15);\n",
              "      fill: #174EA6;\n",
              "    }\n",
              "\n",
              "    [theme=dark] .colab-df-convert {\n",
              "      background-color: #3B4455;\n",
              "      fill: #D2E3FC;\n",
              "    }\n",
              "\n",
              "    [theme=dark] .colab-df-convert:hover {\n",
              "      background-color: #434B5C;\n",
              "      box-shadow: 0px 1px 3px 1px rgba(0, 0, 0, 0.15);\n",
              "      filter: drop-shadow(0px 1px 2px rgba(0, 0, 0, 0.3));\n",
              "      fill: #FFFFFF;\n",
              "    }\n",
              "  </style>\n",
              "\n",
              "      <script>\n",
              "        const buttonEl =\n",
              "          document.querySelector('#df-78a8601b-4215-49be-817f-773991fc29dc button.colab-df-convert');\n",
              "        buttonEl.style.display =\n",
              "          google.colab.kernel.accessAllowed ? 'block' : 'none';\n",
              "\n",
              "        async function convertToInteractive(key) {\n",
              "          const element = document.querySelector('#df-78a8601b-4215-49be-817f-773991fc29dc');\n",
              "          const dataTable =\n",
              "            await google.colab.kernel.invokeFunction('convertToInteractive',\n",
              "                                                     [key], {});\n",
              "          if (!dataTable) return;\n",
              "\n",
              "          const docLinkHtml = 'Like what you see? Visit the ' +\n",
              "            '<a target=\"_blank\" href=https://colab.research.google.com/notebooks/data_table.ipynb>data table notebook</a>'\n",
              "            + ' to learn more about interactive tables.';\n",
              "          element.innerHTML = '';\n",
              "          dataTable['output_type'] = 'display_data';\n",
              "          await google.colab.output.renderOutput(dataTable, element);\n",
              "          const docLink = document.createElement('div');\n",
              "          docLink.innerHTML = docLinkHtml;\n",
              "          element.appendChild(docLink);\n",
              "        }\n",
              "      </script>\n",
              "    </div>\n",
              "  </div>\n",
              "  "
            ]
          },
          "metadata": {},
          "execution_count": 15
        }
      ]
    },
    {
      "cell_type": "code",
      "source": [
        "# create method to add date parts . This method is a part of fast ai library\n",
        "from pandas.api.types import *\n",
        "import re\n",
        "def add_datepart(df, fldname, drop=True, time=False, errors=\"raise\"):\t\n",
        "    \"\"\"add_datepart converts a column of df from a datetime64 to many columns containing\n",
        "    the information from the date. This applies changes inplace.\n",
        "    Parameters:\n",
        "    -----------\n",
        "    df: A pandas data frame. df gain several new columns.\n",
        "    fldname: A string that is the name of the date column you wish to expand.\n",
        "        If it is not a datetime64 series, it will be converted to one with pd.to_datetime.\n",
        "    drop: If true then the original date column will be removed.\n",
        "    time: If true time features: Hour, Minute, Second will be added.\n",
        "    \n",
        "    \"\"\"\n",
        "    \n",
        "    fld = df[fldname]\n",
        "    fld_dtype = fld.dtype\n",
        "    if isinstance(fld_dtype, pd.core.dtypes.dtypes.DatetimeTZDtype):\n",
        "        fld_dtype = np.datetime64\n",
        "\n",
        "    if not np.issubdtype(fld_dtype, np.datetime64):\n",
        "        df[fldname] = fld = pd.to_datetime(fld, infer_datetime_format=True, errors=errors)\n",
        "    targ_pre = re.sub('[Dd]ate$', '', fldname)\n",
        "    attr = ['Year', 'Month', 'Week', 'Day', 'Dayofweek', 'Dayofyear',\n",
        "            'Is_month_end', 'Is_month_start', 'Is_quarter_end', 'Is_quarter_start', 'Is_year_end', 'Is_year_start']\n",
        "    if time: attr = attr + ['Hour', 'Minute', 'Second']\n",
        "    for n in attr: df[targ_pre + n] = getattr(fld.dt, n.lower())\n",
        "    df[targ_pre + 'Elapsed'] = fld.astype(np.int64) // 10 ** 9\n",
        "    if drop: df.drop(fldname, axis=1, inplace=True)\n",
        "\n",
        "def is_date(x): return np.issubdtype(x.dtype, np.datetime64)"
      ],
      "metadata": {
        "id": "EHIOqULDEMo6"
      },
      "execution_count": 16,
      "outputs": []
    },
    {
      "cell_type": "code",
      "source": [
        "#separating target varible and independent avriables\n",
        "X = df_train.loc[:, df_train.columns != 'loan_status']\n",
        "Y = df_train.loan_status"
      ],
      "metadata": {
        "id": "ttu14pPvES7n"
      },
      "execution_count": 17,
      "outputs": []
    },
    {
      "cell_type": "markdown",
      "source": [
        "Converting date into dateparts like quarter, day of year,day of week etc."
      ],
      "metadata": {
        "id": "EMCxPZlqXj2B"
      }
    },
    {
      "cell_type": "code",
      "source": [
        "add_datepart(X, fldname= 'effective_date')\n",
        "add_datepart(X, fldname= 'due_date')\n",
        "X"
      ],
      "metadata": {
        "id": "X9TcstEUEVNb"
      },
      "execution_count": null,
      "outputs": []
    },
    {
      "cell_type": "markdown",
      "source": [
        "Finally, we have all values numeric in the dataframe. It is ready to normalize and apply to model."
      ],
      "metadata": {
        "id": "a13YDTmDYdUa"
      }
    },
    {
      "cell_type": "code",
      "source": [
        "X.dtypes"
      ],
      "metadata": {
        "colab": {
          "base_uri": "https://localhost:8080/"
        },
        "id": "Q1ykfbt1EVPZ",
        "outputId": "1cf207b0-87c8-4005-9f2e-f66c2a737ca2"
      },
      "execution_count": 19,
      "outputs": [
        {
          "output_type": "execute_result",
          "data": {
            "text/plain": [
              "one                           int64\n",
              "two                           int64\n",
              "Principal                     int64\n",
              "terms                         int64\n",
              "age                           int64\n",
              "Gender                        int64\n",
              "Bechalor                      uint8\n",
              "High School or Below          uint8\n",
              "Master or Above               uint8\n",
              "college                       uint8\n",
              "effective_Year                int64\n",
              "effective_Month               int64\n",
              "effective_Week                int64\n",
              "effective_Day                 int64\n",
              "effective_Dayofweek           int64\n",
              "effective_Dayofyear           int64\n",
              "effective_Is_month_end         bool\n",
              "effective_Is_month_start       bool\n",
              "effective_Is_quarter_end       bool\n",
              "effective_Is_quarter_start     bool\n",
              "effective_Is_year_end          bool\n",
              "effective_Is_year_start        bool\n",
              "effective_Elapsed             int64\n",
              "due_Year                      int64\n",
              "due_Month                     int64\n",
              "due_Week                      int64\n",
              "due_Day                       int64\n",
              "due_Dayofweek                 int64\n",
              "due_Dayofyear                 int64\n",
              "due_Is_month_end               bool\n",
              "due_Is_month_start             bool\n",
              "due_Is_quarter_end             bool\n",
              "due_Is_quarter_start           bool\n",
              "due_Is_year_end                bool\n",
              "due_Is_year_start              bool\n",
              "due_Elapsed                   int64\n",
              "dtype: object"
            ]
          },
          "metadata": {},
          "execution_count": 19
        }
      ]
    },
    {
      "cell_type": "markdown",
      "source": [
        "## **Scalling data**"
      ],
      "metadata": {
        "id": "pJ-01xpQYoOy"
      }
    },
    {
      "cell_type": "code",
      "source": [
        "from sklearn.preprocessing import StandardScaler\n",
        "X_normalized = StandardScaler().fit(X).transform(X)\n",
        "X_normalized[0:3]"
      ],
      "metadata": {
        "colab": {
          "base_uri": "https://localhost:8080/"
        },
        "id": "GZFnZzyjEVRm",
        "outputId": "e832e64d-5609-4aaa-b012-c58970dbc05c"
      },
      "execution_count": 20,
      "outputs": [
        {
          "output_type": "execute_result",
          "data": {
            "text/plain": [
              "array([[-1.72772608, -1.72772608,  0.50130175,  0.92089421,  2.31334964,\n",
              "         0.43236977, -0.38655567,  1.15133896, -0.10050378, -0.86855395,\n",
              "         0.        ,  0.        , -0.80379757, -2.99072091, -0.26462433,\n",
              "        -2.99072091,  0.        ,  0.        ,  0.        ,  0.        ,\n",
              "         0.        ,  0.        , -2.99072091,  0.        ,  0.72049117,\n",
              "         0.05549036, -1.33593342,  0.61329721,  0.20072177,  0.        ,\n",
              "         0.        ,  0.        ,  0.        ,  0.        ,  0.        ,\n",
              "         0.20072177],\n",
              "       [-1.71040552, -1.71040552,  0.50130175,  0.92089421,  0.32194392,\n",
              "        -2.31283513,  2.5869495 , -0.86855395, -0.10050378, -0.86855395,\n",
              "         0.        ,  0.        , -0.80379757, -2.99072091, -0.26462433,\n",
              "        -2.99072091,  0.        ,  0.        ,  0.        ,  0.        ,\n",
              "         0.        ,  0.        , -2.99072091,  0.        ,  0.72049117,\n",
              "         0.05549036, -1.33593342,  0.61329721,  0.20072177,  0.        ,\n",
              "         0.        ,  0.        ,  0.        ,  0.        ,  0.        ,\n",
              "         0.20072177],\n",
              "       [-1.70174524, -1.70174524,  0.50130175, -0.9332552 , -0.67375893,\n",
              "         0.43236977, -0.38655567, -0.86855395, -0.10050378,  1.15133896,\n",
              "         0.        ,  0.        , -0.80379757, -2.99072091, -0.26462433,\n",
              "        -2.99072091,  0.        ,  0.        ,  0.        ,  0.        ,\n",
              "         0.        ,  0.        , -2.99072091,  0.        , -1.05849937,\n",
              "        -1.11272776,  0.68514588,  0.21310327, -1.1693927 ,  0.        ,\n",
              "         0.        ,  0.        ,  0.        ,  0.        ,  0.        ,\n",
              "        -1.1693927 ]])"
            ]
          },
          "metadata": {},
          "execution_count": 20
        }
      ]
    },
    {
      "cell_type": "markdown",
      "source": [
        "## **Feature Selection PCA**"
      ],
      "metadata": {
        "id": "_isIrGpqYzdZ"
      }
    },
    {
      "cell_type": "code",
      "source": [
        "from sklearn import decomposition\n",
        "pca = decomposition.PCA(n_components=4)\n",
        "X = pca.fit_transform(X)"
      ],
      "metadata": {
        "id": "gvRtxo3YEVTZ"
      },
      "execution_count": 21,
      "outputs": []
    },
    {
      "cell_type": "markdown",
      "source": [
        "## **Train Test Split**"
      ],
      "metadata": {
        "id": "iPFdTnGHY5Lt"
      }
    },
    {
      "cell_type": "code",
      "source": [
        "from sklearn.model_selection import train_test_split\n",
        "from sklearn.model_selection import train_test_split\n",
        "X_train, X_valid, Y_train, Y_valid = train_test_split (X, Y, test_size= 0.2, random_state= 0)"
      ],
      "metadata": {
        "id": "eib0np6LEVVN"
      },
      "execution_count": 22,
      "outputs": []
    },
    {
      "cell_type": "code",
      "source": [
        "#class counts in target variable\n",
        "print(df_train.loan_status.value_counts())\n",
        "\n",
        "df_train.loan_status.value_counts().plot.bar(rot=0)\n",
        "plot.show()\n",
        "\n",
        "print(Y_valid.value_counts())\n",
        "Y_valid.value_counts().plot.bar(rot=0)\n",
        "plot.show()"
      ],
      "metadata": {
        "colab": {
          "base_uri": "https://localhost:8080/",
          "height": 617
        },
        "id": "-TelMrg_EasU",
        "outputId": "1efe3023-7009-4851-d40f-2ad93f54539f"
      },
      "execution_count": 23,
      "outputs": [
        {
          "output_type": "stream",
          "name": "stdout",
          "text": [
            "1    300\n",
            "0    100\n",
            "Name: loan_status, dtype: int64\n"
          ]
        },
        {
          "output_type": "display_data",
          "data": {
            "text/plain": [
              "<Figure size 432x288 with 1 Axes>"
            ],
            "image/png": "[encoded data removed]"
          },
          "metadata": {
            "needs_background": "light"
          }
        },
        {
          "output_type": "stream",
          "name": "stdout",
          "text": [
            "1    59\n",
            "0    21\n",
            "Name: loan_status, dtype: int64\n"
          ]
        },
        {
          "output_type": "display_data",
          "data": {
            "text/plain": [
              "<Figure size 432x288 with 1 Axes>"
            ],
            "image/png": "[encoded data removed]"
          },
          "metadata": {
            "needs_background": "light"
          }
        }
      ]
    },
    {
      "cell_type": "markdown",
      "source": [
        "## **Building model using Logistic Regression**"
      ],
      "metadata": {
        "id": "jA6UXqWTY_IE"
      }
    },
    {
      "cell_type": "code",
      "source": [
        "#Logistic model\n",
        "from sklearn.linear_model import LogisticRegression\n",
        "\n",
        "# instantiate the model (using the default parameters)\n",
        "logreg = LogisticRegression()\n",
        "\n",
        "# fit the model with data\n",
        "logreg.fit(X_train,Y_train)\n",
        "\n",
        "#\n",
        "y_pred_LR =logreg.predict(X_valid)\n",
        "\n",
        "from sklearn.metrics import accuracy_score\n",
        "print(accuracy_score(Y_valid, y_pred_LR))\n",
        "\n",
        "from sklearn.metrics import confusion_matrix\n",
        "confusion_matrix(Y_valid, y_pred_LR)"
      ],
      "metadata": {
        "colab": {
          "base_uri": "https://localhost:8080/"
        },
        "id": "r0F5L2Qdl810",
        "outputId": "665253b6-8f5a-4d34-e6a0-d8f576d001d4"
      },
      "execution_count": 24,
      "outputs": [
        {
          "output_type": "stream",
          "name": "stdout",
          "text": [
            "0.9625\n"
          ]
        },
        {
          "output_type": "execute_result",
          "data": {
            "text/plain": [
              "array([[21,  0],\n",
              "       [ 3, 56]])"
            ]
          },
          "metadata": {},
          "execution_count": 24
        }
      ]
    },
    {
      "cell_type": "markdown",
      "source": [
        "## **Building model using Decision Tree**"
      ],
      "metadata": {
        "id": "NqVlyqcYZCq1"
      }
    },
    {
      "cell_type": "code",
      "source": [
        "from sklearn.model_selection import train_test_split\n",
        "from sklearn.tree import DecisionTreeClassifier\n",
        "\n",
        "DT = DecisionTreeClassifier(criterion=\"entropy\", max_depth = 4)\n",
        "DT.fit(X_train,Y_train)\n",
        "#DT\n",
        "\n",
        "y_pred_DT=DT.predict(X_valid)\n",
        "print(accuracy_score(Y_valid, y_pred_DT))\n",
        "\n",
        "\n",
        "from sklearn.metrics import confusion_matrix\n",
        "confusion_matrix(Y_valid, y_pred_DT)"
      ],
      "metadata": {
        "colab": {
          "base_uri": "https://localhost:8080/"
        },
        "id": "5M2XxYp0Eaw4",
        "outputId": "45506e4a-bea1-4bf6-e8a0-0e0177812d4d"
      },
      "execution_count": 25,
      "outputs": [
        {
          "output_type": "stream",
          "name": "stdout",
          "text": [
            "1.0\n"
          ]
        },
        {
          "output_type": "execute_result",
          "data": {
            "text/plain": [
              "array([[21,  0],\n",
              "       [ 0, 59]])"
            ]
          },
          "metadata": {},
          "execution_count": 25
        }
      ]
    },
    {
      "cell_type": "markdown",
      "source": [
        "## **Finding the best Model . Evaluation Using Jaccard Index, F1- Score and and Log Loss**"
      ],
      "metadata": {
        "id": "xqKTjrl8ZLXZ"
      }
    },
    {
      "cell_type": "code",
      "source": [
        "from sklearn.metrics import jaccard_score\n",
        "from sklearn.metrics import f1_score\n",
        "from sklearn.metrics import log_loss"
      ],
      "metadata": {
        "id": "5c0hNUzaEa53"
      },
      "execution_count": 26,
      "outputs": []
    },
    {
      "cell_type": "markdown",
      "source": [
        "## **Jaccard Similarity**"
      ],
      "metadata": {
        "id": "P_XwtGNoZObs"
      }
    },
    {
      "cell_type": "code",
      "source": [
        "# Jaccard for LR \n",
        "jcLR = round(jaccard_score(Y_valid, y_pred_LR),2)\n",
        "# Jaccard Decision Trees\n",
        "jcDT = round(jaccard_score(Y_valid, y_pred_DT),2)\n",
        "\n",
        "list_jaccard_score  = [jcLR, jcDT]\n",
        "list_jaccard_score"
      ],
      "metadata": {
        "colab": {
          "base_uri": "https://localhost:8080/"
        },
        "id": "Yl3-3EgeEa7W",
        "outputId": "5626c321-a322-4a54-86ba-2974c19148b9"
      },
      "execution_count": 27,
      "outputs": [
        {
          "output_type": "execute_result",
          "data": {
            "text/plain": [
              "[0.95, 1.0]"
            ]
          },
          "metadata": {},
          "execution_count": 27
        }
      ]
    },
    {
      "cell_type": "markdown",
      "source": [
        "## **F1_score**"
      ],
      "metadata": {
        "id": "RasyZc3WZR6Y"
      }
    },
    {
      "cell_type": "code",
      "source": [
        "fLR = round(f1_score(Y_valid, y_pred_LR, average='weighted'), 2)\n",
        "fDT = round(f1_score(Y_valid, y_pred_DT, average='weighted'), 2)\n",
        "\n",
        "list_f1_score = [fLR,fDT]\n",
        "list_f1_score"
      ],
      "metadata": {
        "colab": {
          "base_uri": "https://localhost:8080/"
        },
        "id": "a_aY1MeoEmSn",
        "outputId": "6e6ea200-046b-4103-bae1-d3f90f0f48ca"
      },
      "execution_count": 28,
      "outputs": [
        {
          "output_type": "execute_result",
          "data": {
            "text/plain": [
              "[0.96, 1.0]"
            ]
          },
          "metadata": {},
          "execution_count": 28
        }
      ]
    },
    {
      "cell_type": "markdown",
      "source": [
        "## **Log Loss**"
      ],
      "metadata": {
        "id": "Wj3xng6EZcPJ"
      }
    },
    {
      "cell_type": "code",
      "source": [
        "lgloss_LR =log_loss(Y_valid, logreg.predict_proba(X_valid))\n",
        "lgloss_DT = round(log_loss(Y_valid, DT.predict_proba(X_valid)), 2)\n",
        "\n",
        "\n",
        "\n",
        "list_log_loss = [lgloss_LR, lgloss_DT]\n",
        "list_log_loss"
      ],
      "metadata": {
        "colab": {
          "base_uri": "https://localhost:8080/"
        },
        "id": "NtFfAkWrEmUr",
        "outputId": "7566394b-fda9-40bf-fbb1-6da174854c37"
      },
      "execution_count": 29,
      "outputs": [
        {
          "output_type": "execute_result",
          "data": {
            "text/plain": [
              "[0.051076116175928755, 0.0]"
            ]
          },
          "metadata": {},
          "execution_count": 29
        }
      ]
    },
    {
      "cell_type": "markdown",
      "source": [
        "## **Final Report on Evaluation**"
      ],
      "metadata": {
        "id": "dsVSNCOpZgyh"
      }
    },
    {
      "cell_type": "code",
      "source": [
        "ind = np.arange(2) \n",
        "width = 0.35       \n",
        "plot.bar(ind, list_jaccard_score, width, label='Jaccard Index')\n",
        "plot.bar(ind + width,  list_f1_score, width,\n",
        "    label='F1-Score')\n",
        "\n",
        "plot.ylabel('Scores')\n",
        "plot.title('Comparision between Jacard similarity and F1- Score')\n",
        "\n",
        "plot.xticks(ind + width / 2, ('LR','DT'))\n",
        "plot.legend(loc='best')\n",
        "plot.show()"
      ],
      "metadata": {
        "colab": {
          "base_uri": "https://localhost:8080/",
          "height": 281
        },
        "id": "fYsa6yH8EmW9",
        "outputId": "327c8087-20b9-420e-dd38-592b3296e069"
      },
      "execution_count": 30,
      "outputs": [
        {
          "output_type": "display_data",
          "data": {
            "text/plain": [
              "<Figure size 432x288 with 1 Axes>"
            ],
            "image/png": "[encoded data removed]"
          },
          "metadata": {
            "needs_background": "light"
          }
        }
      ]
    },
    {
      "cell_type": "code",
      "source": [
        "width = 0.35       \n",
        "plot.bar(ind, list_log_loss, width, label='Log Loss Report')\n",
        "\n",
        "plot.ylabel('Scores')\n",
        "plot.title('Log Loss Report')\n",
        "\n",
        "plot.xticks(ind , ('LR','DT'))\n",
        "plot.legend(loc='best')\n",
        "plot.show()"
      ],
      "metadata": {
        "colab": {
          "base_uri": "https://localhost:8080/",
          "height": 281
        },
        "id": "92Up4iipEqbn",
        "outputId": "2a4993a2-168e-44ae-a7fd-7a18904fad89"
      },
      "execution_count": 31,
      "outputs": [
        {
          "output_type": "display_data",
          "data": {
            "text/plain": [
              "<Figure size 432x288 with 1 Axes>"
            ],
            "image/png": "[encoded data removed]"
          },
          "metadata": {
            "needs_background": "light"
          }
        }
      ]
    },
    {
      "cell_type": "markdown",
      "source": [
        "The lowest log loss, highest jaccard and F1-score in DT. LR stands at second rank.  Decision Tree is the better model for the given problem. "
      ],
      "metadata": {
        "id": "dBFoRgHJZ6AM"
      }
    },
    {
      "cell_type": "markdown",
      "source": [
        "## **Precision- Recall Curve**"
      ],
      "metadata": {
        "id": "hF30nYu4aAWE"
      }
    },
    {
      "cell_type": "markdown",
      "source": [
        "The precision-recall curve shows the tradeoff between precision and recall for different threshold. A high area under the curve represents both high recall and high precision, where high precision relates to a low false positive rate, and high recall relates to a low false negative rate. High scores for both show that the classifier is returning accurate results (high precision), as well as returning a majority of all positive results (high recall)."
      ],
      "metadata": {
        "id": "Vg5e2I2laF0o"
      }
    },
    {
      "cell_type": "code",
      "source": [
        "#method to plot - precision- recall curve for model evaluation\n",
        "from sklearn.metrics import precision_recall_curve\n",
        "from sklearn.metrics import average_precision_score\n",
        "from sklearn.metrics import auc\n",
        "def plot_prec_recall_curv(ytrue, ypred, title):\n",
        "    #for a good model  precision and recall both should be high. \n",
        "    precision, recall, thresholds = precision_recall_curve(ytrue, ypred)\n",
        "    auc1 = auc(recall, precision)\n",
        "    # calculate average precision score\n",
        "    ap = average_precision_score(ytrue, ypred)\n",
        "    print(' auc=%.3f ap=%.3f' % ( auc1, ap))\n",
        "    # plot the precision-recall curve for the model\n",
        "    plot.plot(recall, precision, marker='.')\n",
        "    # show the plot\n",
        "    plot.xlabel(\"recall\")\n",
        "    plot.ylabel(\"precision\")\n",
        "    plot.ylim([0.0, 1.05])\n",
        "    plot.xlim([0.0, 1.0])\n",
        "    plot.title(title+\" PRECISION-RECALL CURVE , AUC: \"+ str(auc1) )\n",
        "    plot.fill_between(recall, precision, alpha=0.2, color='b')\n",
        "    plot.show()"
      ],
      "metadata": {
        "id": "ODpW2qJPEtjz"
      },
      "execution_count": 32,
      "outputs": []
    },
    {
      "cell_type": "code",
      "source": [
        "#plot recall precision curve\n",
        "plot_prec_recall_curv(Y_valid, y_pred_LR, title=\"Logistic Regression Model\")\n",
        "\n",
        "plot_prec_recall_curv(Y_valid, y_pred_DT, title=\"Decision Tree\")\n",
        "\n"
      ],
      "metadata": {
        "colab": {
          "base_uri": "https://localhost:8080/",
          "height": 608
        },
        "id": "Qc5YStetEuKL",
        "outputId": "746d143d-06e2-4e96-8679-7a63b7cae15e"
      },
      "execution_count": 33,
      "outputs": [
        {
          "output_type": "stream",
          "name": "stdout",
          "text": [
            " auc=0.993 ap=0.987\n"
          ]
        },
        {
          "output_type": "display_data",
          "data": {
            "text/plain": [
              "<Figure size 432x288 with 1 Axes>"
            ],
            "image/png": "[encoded data removed]"
          },
          "metadata": {
            "needs_background": "light"
          }
        },
        {
          "output_type": "stream",
          "name": "stdout",
          "text": [
            " auc=1.000 ap=1.000\n"
          ]
        },
        {
          "output_type": "display_data",
          "data": {
            "text/plain": [
              "<Figure size 432x288 with 1 Axes>"
            ],
            "image/png": "[encoded data removed]"
          },
          "metadata": {
            "needs_background": "light"
          }
        }
      ]
    },
    {
      "cell_type": "markdown",
      "source": [
        "We can observe from all curves that decision tree has the highest area under precision-recall curve. It gives the best performance. Second best model is the linear regression."
      ],
      "metadata": {
        "id": "LY9sA2npaNI9"
      }
    },
    {
      "cell_type": "markdown",
      "source": [
        "## **F1-score, Jaccard similary and log loss together:**"
      ],
      "metadata": {
        "id": "VzIsMVrzaPMn"
      }
    },
    {
      "cell_type": "code",
      "source": [
        "# printing F1-score, Jaccard similary and log loss together:\n",
        "df = pd.DataFrame(\n",
        "    list(zip(\n",
        "        ['LR','DT'],list_jaccard_score, list_f1_score, list_log_loss)),\n",
        "    columns = ['Model', 'Jaccard','F1-Score','Log-Loss']\n",
        ")\n",
        "\n",
        "\n",
        "df = pd.DataFrame.from_dict(df)\n",
        "\n",
        "print(df)"
      ],
      "metadata": {
        "colab": {
          "base_uri": "https://localhost:8080/"
        },
        "id": "NzOxIQuJExeb",
        "outputId": "eab51da3-da60-4278-bb8f-c6a59f343f6e"
      },
      "execution_count": 34,
      "outputs": [
        {
          "output_type": "stream",
          "name": "stdout",
          "text": [
            "  Model  Jaccard  F1-Score  Log-Loss\n",
            "0    LR     0.95      0.96  0.051076\n",
            "1    DT     1.00      1.00  0.000000\n"
          ]
        }
      ]
    }
  ]
}